{
 "cells": [
  {
   "cell_type": "markdown",
   "id": "be6953c3",
   "metadata": {},
   "source": [
    "# Q1. Explain why we have to use the Exception class while creating a Custom Exception.\n",
    "__Note:__ Here Exception class refers to the base class for all the exceptions."
   ]
  },
  {
   "cell_type": "markdown",
   "id": "775898b6",
   "metadata": {},
   "source": [
    "__Ans :__<br>\n",
    "\n",
    "inheriting from the Exception class while creating custom exceptions makes it easier to handle and communicate errors in a consistent and standardized way."
   ]
  },
  {
   "cell_type": "markdown",
   "id": "d601d04c",
   "metadata": {},
   "source": [
    "# Q2. Write a python program to print Python Exception Hierarchy."
   ]
  },
  {
   "cell_type": "code",
   "execution_count": 1,
   "id": "332c48bd",
   "metadata": {},
   "outputs": [
    {
     "name": "stdout",
     "output_type": "stream",
     "text": [
      "My custom exception\n"
     ]
    }
   ],
   "source": [
    "def print_exception_hierarchy(exception, level=0):\n",
    "    print(\"  \" * level + str(exception))\n",
    "    if exception.__cause__:\n",
    "        print_exception_hierarchy(exception.__cause__, level + 1)\n",
    "\n",
    "try:\n",
    "    raise Exception(\"My custom exception\")\n",
    "except Exception as e:\n",
    "    print_exception_hierarchy(e)\n"
   ]
  },
  {
   "cell_type": "markdown",
   "id": "da6a253b",
   "metadata": {},
   "source": [
    "# Q3. What errors are defined in the ArithmeticError class? Explain any two with an example."
   ]
  },
  {
   "cell_type": "markdown",
   "id": "3c36583e",
   "metadata": {},
   "source": [
    "__Ans :__<br>\n",
    "\n",
    "This errors are defined in the ArithmeticError class :<br>\n",
    "\n",
    "* OverflowError\n",
    "* ZeroDivisionError\n",
    "* FloatingPointError"
   ]
  },
  {
   "cell_type": "code",
   "execution_count": 2,
   "id": "ede0547a",
   "metadata": {},
   "outputs": [],
   "source": [
    "# OverflowError\n",
    "\n",
    "try:\n",
    "    result = 10**100000\n",
    "except OverflowError as e:\n",
    "    print(\"Error: Numeric overflow\")"
   ]
  },
  {
   "cell_type": "code",
   "execution_count": 3,
   "id": "db8513d1",
   "metadata": {},
   "outputs": [
    {
     "name": "stdout",
     "output_type": "stream",
     "text": [
      "This statement is raising an arithmetic exception.\n"
     ]
    }
   ],
   "source": [
    "# ZeroDivisionError\n",
    "\n",
    "try:  \n",
    "    a = 10/0  \n",
    "    print (a)\n",
    "except ArithmeticError:  \n",
    "        print (\"This statement is raising an arithmetic exception.\")\n",
    "else:  \n",
    "    print (\"Success.\")"
   ]
  },
  {
   "cell_type": "markdown",
   "id": "434cf75c",
   "metadata": {},
   "source": [
    "# Q4. Why LookupError class is used? Explain with an example KeyError and IndexError."
   ]
  },
  {
   "cell_type": "markdown",
   "id": "9225d73c",
   "metadata": {},
   "source": [
    "__Ans. :__<br>\n",
    "\n",
    "The __LookupError__ class in Python is a subclass of the __Exception__ class, and it represents errors that occur when a lookup operation, such as indexing or dictionary key access, fails.\n",
    "\n",
    "Here are two examples of errors that are defined in the __LookupError__ class:\n",
    "\n",
    "1. __KeyError :__ This error occurs when you try to access a dictionary key that does not exist. For example:"
   ]
  },
  {
   "cell_type": "code",
   "execution_count": 4,
   "id": "3e8990e2",
   "metadata": {},
   "outputs": [
    {
     "name": "stdout",
     "output_type": "stream",
     "text": [
      "Error: Key not found\n"
     ]
    }
   ],
   "source": [
    "d = {\"a\": 1, \"b\": 2}\n",
    "try:\n",
    "    value = d[\"c\"]\n",
    "except KeyError as e:\n",
    "    print(\"Error: Key not found\")"
   ]
  },
  {
   "cell_type": "markdown",
   "id": "57d4c5a9",
   "metadata": {},
   "source": [
    "2. __IndexError :__ This error occurs when you try to access an index in a list or other sequence that is out of bounds. For example:"
   ]
  },
  {
   "cell_type": "code",
   "execution_count": 5,
   "id": "e52e2b2d",
   "metadata": {},
   "outputs": [
    {
     "name": "stdout",
     "output_type": "stream",
     "text": [
      "Error: Index out of bounds\n"
     ]
    }
   ],
   "source": [
    "l = [1, 2, 3]\n",
    "try:\n",
    "    value = l[3]\n",
    "except IndexError as e:\n",
    "    print(\"Error: Index out of bounds\")"
   ]
  },
  {
   "cell_type": "markdown",
   "id": "8edc884b",
   "metadata": {},
   "source": [
    "# Q5. Explain ImportError. What is ModuleNotFoundError?"
   ]
  },
  {
   "cell_type": "markdown",
   "id": "02815151",
   "metadata": {},
   "source": [
    "__Ans. :__<br>\n",
    "\n",
    "__ImportError__ is a class in Python that represents an error that occurs when an import statement fails to find a module that is being imported.\n",
    "\n",
    "For example, if you try to import a module that does not exist, you will get an __ImportError__ :\n"
   ]
  },
  {
   "cell_type": "code",
   "execution_count": 6,
   "id": "1ac7b443",
   "metadata": {},
   "outputs": [
    {
     "name": "stdout",
     "output_type": "stream",
     "text": [
      "Error: Module not found\n"
     ]
    }
   ],
   "source": [
    "try:\n",
    "    import non_existent_module\n",
    "except ImportError as e:\n",
    "    print(\"Error: Module not found\")"
   ]
  },
  {
   "cell_type": "markdown",
   "id": "fcefeaf7",
   "metadata": {},
   "source": [
    "__ModuleNotFoundError__ is a subclass of __ImportError__ that was introduced in Python 3.6. It specifically represents an error that occurs when a module is not found during an import operation.\n",
    "\n",
    "For example, if you try to import a module that is not installed or does not exist in your Python environment, you will get a __ModuleNotFoundError__:"
   ]
  },
  {
   "cell_type": "code",
   "execution_count": 7,
   "id": "93529096",
   "metadata": {},
   "outputs": [
    {
     "name": "stdout",
     "output_type": "stream",
     "text": [
      "Error: Module not found\n"
     ]
    }
   ],
   "source": [
    "try:\n",
    "    import non_existent_module\n",
    "except ModuleNotFoundError as e:\n",
    "    print(\"Error: Module not found\")"
   ]
  },
  {
   "cell_type": "markdown",
   "id": "dcdc53e0",
   "metadata": {},
   "source": [
    "# Q6. List down some best practices for exception handling in python."
   ]
  },
  {
   "cell_type": "markdown",
   "id": "c8911b3a",
   "metadata": {},
   "source": [
    "__Ans. :__<br>\n",
    "\n",
    "1. Use exceptions for exceptional cases only: Exceptions should only be used for exceptional situations that are outside the normal flow of control, such as file not found, network error, etc. Avoid using exceptions for control flow.\n",
    "<br>\n",
    "\n",
    "2. Use specific exceptions: Use specific exceptions for specific errors. For example, use ___FileNotFoundError__ instead of a more general __Exception__ when the error is related to a file not being found.\n",
    "<br>\n",
    "\n",
    "3. Catch exceptions only when you can handle them: Only catch exceptions that you can actually handle and provide a meaningful response to. If you cannot handle an exception, let it propagate up the call stack.\n",
    "<br>\n",
    "\n",
    "4. Catch exceptions as close to the source as possible: Catch exceptions as close to the source of the error as possible. This allows you to handle the exception in a specific and local manner, rather than in a more general way further up the call stack.\n",
    "<br>\n",
    "\n",
    "5. Use meaningful exception messages: Provide meaningful error messages that describe the nature of the error. This makes it easier for the person handling the error to understand the problem and take appropriate action.\n",
    "<br>\n",
    "\n",
    "6. Document exceptions: Document the exceptions that your code may raise, including the specific error conditions that will cause an exception to be raised.\n",
    "<br>\n",
    "\n",
    "7. Clean up resources: When an exception is raised, resources such as files, sockets, and database connections may not be properly cleaned up. Use the __finally__ block to ensure that these resources are cleaned up, even if an exception is raised.\n",
    "<br>\n",
    "\n",
    "8. Avoid catching too broad exceptions: Avoid catching too broad exceptions such as __Exception__ or __BaseException__. These catch all exceptions, including those that are intended to be raised, and can hide important errors in your code.\n",
    "<br>\n",
    "\n",
    "9. Avoid empty except blocks: Avoid using empty except blocks, as they will catch all exceptions and make it difficult to debug errors in your code.\n",
    "<br>\n",
    "\n",
    "10. Log exceptions: Log exceptions so that you can analyze them later and understand why they occurred. Logging exceptions can help you detect and fix problems in your code, and prevent future occurrences of the same error."
   ]
  },
  {
   "cell_type": "code",
   "execution_count": null,
   "id": "2d70b77c",
   "metadata": {},
   "outputs": [],
   "source": []
  }
 ],
 "metadata": {
  "kernelspec": {
   "display_name": "Python 3 (ipykernel)",
   "language": "python",
   "name": "python3"
  },
  "language_info": {
   "codemirror_mode": {
    "name": "ipython",
    "version": 3
   },
   "file_extension": ".py",
   "mimetype": "text/x-python",
   "name": "python",
   "nbconvert_exporter": "python",
   "pygments_lexer": "ipython3",
   "version": "3.9.7"
  }
 },
 "nbformat": 4,
 "nbformat_minor": 5
}
